{
 "cells": [
  {
   "cell_type": "code",
   "execution_count": 36,
   "metadata": {
    "collapsed": false
   },
   "outputs": [],
   "source": [
    "import crystal_nn\n",
    "import json\n",
    "import h5py\n",
    "import sys\n",
    "from __future__ import division"
   ]
  },
  {
   "cell_type": "code",
   "execution_count": 2,
   "metadata": {
    "collapsed": true
   },
   "outputs": [],
   "source": [
    "unstable_data = json.load(open('Unstable_Recs.json','r'))\n",
    "stable_data = json.load(open('OrderedSpinelData.json','r'))"
   ]
  },
  {
   "cell_type": "code",
   "execution_count": 82,
   "metadata": {
    "collapsed": false
   },
   "outputs": [],
   "source": [
    "f = h5py.File(\"SpinelData.hdf5\", \"w\")"
   ]
  },
  {
   "cell_type": "raw",
   "metadata": {},
   "source": [
    "f.create_group('Stable')\n",
    "f.create_group('Unstable')"
   ]
  },
  {
   "cell_type": "code",
   "execution_count": null,
   "metadata": {
    "collapsed": true
   },
   "outputs": [],
   "source": [
    "print('Stable Data')\n",
    "for i,rec in enumerate(stable_data):\n",
    "    img = crystal_nn.make_crystal_img(rec['cif'])\n",
    "    if type(img) != str:\n",
    "        f['Stable'].create_dataset(rec['id'],data=img)\n",
    "    pct = (i+1)/len(stable_data)\n",
    "    sys.stdout.write(\"\\r[{:50}]  ({} of {} done)\".format(\n",
    "        '#'*int(round(50*pct))+'-'*(50-int(round(50*pct))),\n",
    "        i+1,\n",
    "        len(stable_data)\n",
    "        ))\n",
    "    sys.stdout.flush()\n",
    "\n",
    "print('')    \n",
    "print('Unstable Data')\n",
    "for i,rec in enumerate(unstable_data):\n",
    "    img = crystal_nn.make_crystal_img(rec['cif'])\n",
    "    if type(img) != str:\n",
    "        f['Unstable'].create_dataset(rec['id'],data=img)\n",
    "    pct = (i+1)/len(unstable_data)\n",
    "    sys.stdout.write(\"\\r[{:50}]  ({} of {} done)\".format(\n",
    "        '#'*int(round(50*pct))+'-'*(50-int(round(50*pct))),\n",
    "        i+1,\n",
    "        len(unstable_data)\n",
    "        ))\n",
    "    sys.stdout.flush()"
   ]
  }
 ],
 "metadata": {
  "kernelspec": {
   "display_name": "Python 2",
   "language": "python",
   "name": "python2"
  },
  "language_info": {
   "codemirror_mode": {
    "name": "ipython",
    "version": 2
   },
   "file_extension": ".py",
   "mimetype": "text/x-python",
   "name": "python",
   "nbconvert_exporter": "python",
   "pygments_lexer": "ipython2",
   "version": "2.7.8"
  }
 },
 "nbformat": 4,
 "nbformat_minor": 2
}
